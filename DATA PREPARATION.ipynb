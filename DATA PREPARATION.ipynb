{
 "cells": [
  {
   "cell_type": "markdown",
   "id": "37dd9390",
   "metadata": {},
   "source": [
    "# Data Preprocessing"
   ]
  },
  {
   "cell_type": "code",
   "execution_count": 1,
   "id": "31d9c0b6",
   "metadata": {},
   "outputs": [],
   "source": [
    "#!pip install numpy\n",
    "#!pip install matplotlib\n",
    "#!pip install pandas"
   ]
  },
  {
   "cell_type": "markdown",
   "id": "36f106f1",
   "metadata": {},
   "source": [
    "# Importing data"
   ]
  },
  {
   "cell_type": "code",
   "execution_count": 2,
   "id": "34ab922d",
   "metadata": {},
   "outputs": [],
   "source": [
    "# Importing the libraries\n",
    "import numpy as np\n",
    "import matplotlib.pyplot as plt\n",
    "import pandas as pd"
   ]
  },
  {
   "cell_type": "code",
   "execution_count": 3,
   "id": "6c852f62",
   "metadata": {},
   "outputs": [],
   "source": [
    "# Importing the dataset\n",
    "df = pd.read_csv('braznikova.csv', sep=';')"
   ]
  },
  {
   "cell_type": "code",
   "execution_count": 4,
   "id": "5c626ada",
   "metadata": {},
   "outputs": [
    {
     "data": {
      "text/html": [
       "<div>\n",
       "<style scoped>\n",
       "    .dataframe tbody tr th:only-of-type {\n",
       "        vertical-align: middle;\n",
       "    }\n",
       "\n",
       "    .dataframe tbody tr th {\n",
       "        vertical-align: top;\n",
       "    }\n",
       "\n",
       "    .dataframe thead th {\n",
       "        text-align: right;\n",
       "    }\n",
       "</style>\n",
       "<table border=\"1\" class=\"dataframe\">\n",
       "  <thead>\n",
       "    <tr style=\"text-align: right;\">\n",
       "      <th></th>\n",
       "      <th>X1</th>\n",
       "      <th>X2</th>\n",
       "      <th>X3</th>\n",
       "      <th>X4</th>\n",
       "      <th>X5</th>\n",
       "      <th>X6</th>\n",
       "      <th>X7</th>\n",
       "      <th>X8</th>\n",
       "      <th>X9</th>\n",
       "      <th>X10</th>\n",
       "      <th>X11</th>\n",
       "      <th>X12</th>\n",
       "      <th>X13</th>\n",
       "      <th>Y</th>\n",
       "    </tr>\n",
       "  </thead>\n",
       "  <tbody>\n",
       "    <tr>\n",
       "      <th>0</th>\n",
       "      <td>9</td>\n",
       "      <td>1</td>\n",
       "      <td>MAF</td>\n",
       "      <td>1</td>\n",
       "      <td>3</td>\n",
       "      <td>659</td>\n",
       "      <td>76,85</td>\n",
       "      <td>1092.0</td>\n",
       "      <td>0</td>\n",
       "      <td>0</td>\n",
       "      <td>0</td>\n",
       "      <td>0</td>\n",
       "      <td>1</td>\n",
       "      <td>13884.0</td>\n",
       "    </tr>\n",
       "    <tr>\n",
       "      <th>1</th>\n",
       "      <td>22</td>\n",
       "      <td>1</td>\n",
       "      <td>MAF</td>\n",
       "      <td>1</td>\n",
       "      <td>4,1</td>\n",
       "      <td>1518</td>\n",
       "      <td>84,86</td>\n",
       "      <td>348.0</td>\n",
       "      <td>0</td>\n",
       "      <td>0</td>\n",
       "      <td>0</td>\n",
       "      <td>1</td>\n",
       "      <td>1</td>\n",
       "      <td>11700.0</td>\n",
       "    </tr>\n",
       "    <tr>\n",
       "      <th>2</th>\n",
       "      <td>13</td>\n",
       "      <td>1</td>\n",
       "      <td>MAF</td>\n",
       "      <td>1</td>\n",
       "      <td>3</td>\n",
       "      <td>476</td>\n",
       "      <td>112,02</td>\n",
       "      <td>504.0</td>\n",
       "      <td>0</td>\n",
       "      <td>0</td>\n",
       "      <td>0</td>\n",
       "      <td>1</td>\n",
       "      <td>1</td>\n",
       "      <td>6786.0</td>\n",
       "    </tr>\n",
       "    <tr>\n",
       "      <th>3</th>\n",
       "      <td>18</td>\n",
       "      <td>1</td>\n",
       "      <td>MAF</td>\n",
       "      <td>1</td>\n",
       "      <td>3</td>\n",
       "      <td>1310</td>\n",
       "      <td>119,80</td>\n",
       "      <td>418.0</td>\n",
       "      <td>0</td>\n",
       "      <td>0</td>\n",
       "      <td>0</td>\n",
       "      <td>1</td>\n",
       "      <td>1</td>\n",
       "      <td>12948.0</td>\n",
       "    </tr>\n",
       "    <tr>\n",
       "      <th>4</th>\n",
       "      <td>25</td>\n",
       "      <td>1</td>\n",
       "      <td>Include apartment</td>\n",
       "      <td>1</td>\n",
       "      <td>4</td>\n",
       "      <td>2029</td>\n",
       "      <td>94,88</td>\n",
       "      <td>108.0</td>\n",
       "      <td>0</td>\n",
       "      <td>0</td>\n",
       "      <td>0</td>\n",
       "      <td>0</td>\n",
       "      <td>0</td>\n",
       "      <td>11427.0</td>\n",
       "    </tr>\n",
       "    <tr>\n",
       "      <th>...</th>\n",
       "      <td>...</td>\n",
       "      <td>...</td>\n",
       "      <td>...</td>\n",
       "      <td>...</td>\n",
       "      <td>...</td>\n",
       "      <td>...</td>\n",
       "      <td>...</td>\n",
       "      <td>...</td>\n",
       "      <td>...</td>\n",
       "      <td>...</td>\n",
       "      <td>...</td>\n",
       "      <td>...</td>\n",
       "      <td>...</td>\n",
       "      <td>...</td>\n",
       "    </tr>\n",
       "    <tr>\n",
       "      <th>64</th>\n",
       "      <td>40,78</td>\n",
       "      <td>1</td>\n",
       "      <td>MAF</td>\n",
       "      <td>2</td>\n",
       "      <td>4</td>\n",
       "      <td>6884</td>\n",
       "      <td>107,37</td>\n",
       "      <td>337.0</td>\n",
       "      <td>0</td>\n",
       "      <td>0</td>\n",
       "      <td>0</td>\n",
       "      <td>0</td>\n",
       "      <td>0</td>\n",
       "      <td>9399.0</td>\n",
       "    </tr>\n",
       "    <tr>\n",
       "      <th>65</th>\n",
       "      <td>21,5</td>\n",
       "      <td>1</td>\n",
       "      <td>MAF</td>\n",
       "      <td>1</td>\n",
       "      <td>2,3</td>\n",
       "      <td>4721</td>\n",
       "      <td>89,13</td>\n",
       "      <td>668.0</td>\n",
       "      <td>0</td>\n",
       "      <td>1</td>\n",
       "      <td>1</td>\n",
       "      <td>0</td>\n",
       "      <td>0</td>\n",
       "      <td>14079.0</td>\n",
       "    </tr>\n",
       "    <tr>\n",
       "      <th>66</th>\n",
       "      <td>115,23</td>\n",
       "      <td>1</td>\n",
       "      <td>MAF</td>\n",
       "      <td>1</td>\n",
       "      <td>3</td>\n",
       "      <td>3286</td>\n",
       "      <td>105,62</td>\n",
       "      <td>295.0</td>\n",
       "      <td>0</td>\n",
       "      <td>0</td>\n",
       "      <td>0</td>\n",
       "      <td>0</td>\n",
       "      <td>0</td>\n",
       "      <td>11427.0</td>\n",
       "    </tr>\n",
       "    <tr>\n",
       "      <th>67</th>\n",
       "      <td>34,8</td>\n",
       "      <td>1</td>\n",
       "      <td>Include apartment</td>\n",
       "      <td>2</td>\n",
       "      <td>4,3</td>\n",
       "      <td>3963</td>\n",
       "      <td>168,07</td>\n",
       "      <td>0.0</td>\n",
       "      <td>0</td>\n",
       "      <td>1</td>\n",
       "      <td>1</td>\n",
       "      <td>0</td>\n",
       "      <td>0</td>\n",
       "      <td>13338.0</td>\n",
       "    </tr>\n",
       "    <tr>\n",
       "      <th>68</th>\n",
       "      <td>22</td>\n",
       "      <td>1</td>\n",
       "      <td>MAF</td>\n",
       "      <td>1</td>\n",
       "      <td>4,9</td>\n",
       "      <td>4200</td>\n",
       "      <td>101,73</td>\n",
       "      <td>101.0</td>\n",
       "      <td>0</td>\n",
       "      <td>0</td>\n",
       "      <td>0</td>\n",
       "      <td>0</td>\n",
       "      <td>0</td>\n",
       "      <td>10296.0</td>\n",
       "    </tr>\n",
       "  </tbody>\n",
       "</table>\n",
       "<p>69 rows × 14 columns</p>\n",
       "</div>"
      ],
      "text/plain": [
       "        X1  X2                 X3  X4   X5    X6      X7      X8  X9  X10  \\\n",
       "0        9   1                MAF   1    3   659   76,85  1092.0   0    0   \n",
       "1       22   1                MAF   1  4,1  1518   84,86   348.0   0    0   \n",
       "2       13   1                MAF   1    3   476  112,02   504.0   0    0   \n",
       "3       18   1                MAF   1    3  1310  119,80   418.0   0    0   \n",
       "4       25   1  Include apartment   1    4  2029   94,88   108.0   0    0   \n",
       "..     ...  ..                ...  ..  ...   ...     ...     ...  ..  ...   \n",
       "64   40,78   1                MAF   2    4  6884  107,37   337.0   0    0   \n",
       "65    21,5   1                MAF   1  2,3  4721   89,13   668.0   0    1   \n",
       "66  115,23   1                MAF   1    3  3286  105,62   295.0   0    0   \n",
       "67    34,8   1  Include apartment   2  4,3  3963  168,07     0.0   0    1   \n",
       "68      22   1                MAF   1  4,9  4200  101,73   101.0   0    0   \n",
       "\n",
       "    X11  X12  X13        Y  \n",
       "0     0    0    1  13884.0  \n",
       "1     0    1    1  11700.0  \n",
       "2     0    1    1   6786.0  \n",
       "3     0    1    1  12948.0  \n",
       "4     0    0    0  11427.0  \n",
       "..  ...  ...  ...      ...  \n",
       "64    0    0    0   9399.0  \n",
       "65    1    0    0  14079.0  \n",
       "66    0    0    0  11427.0  \n",
       "67    1    0    0  13338.0  \n",
       "68    0    0    0  10296.0  \n",
       "\n",
       "[69 rows x 14 columns]"
      ]
     },
     "execution_count": 4,
     "metadata": {},
     "output_type": "execute_result"
    }
   ],
   "source": [
    "df"
   ]
  },
  {
   "cell_type": "code",
   "execution_count": 5,
   "id": "2f7b5287",
   "metadata": {
    "scrolled": true
   },
   "outputs": [
    {
     "name": "stdout",
     "output_type": "stream",
     "text": [
      "<class 'pandas.core.frame.DataFrame'>\n",
      "RangeIndex: 69 entries, 0 to 68\n",
      "Data columns (total 14 columns):\n",
      " #   Column  Non-Null Count  Dtype  \n",
      "---  ------  --------------  -----  \n",
      " 0   X1      69 non-null     object \n",
      " 1   X2      69 non-null     int64  \n",
      " 2   X3      69 non-null     object \n",
      " 3   X4      69 non-null     int64  \n",
      " 4   X5      69 non-null     object \n",
      " 5   X6      69 non-null     int64  \n",
      " 6   X7      62 non-null     object \n",
      " 7   X8      64 non-null     float64\n",
      " 8   X9      69 non-null     int64  \n",
      " 9   X10     69 non-null     int64  \n",
      " 10  X11     69 non-null     int64  \n",
      " 11  X12     69 non-null     int64  \n",
      " 12  X13     69 non-null     int64  \n",
      " 13  Y       64 non-null     float64\n",
      "dtypes: float64(2), int64(8), object(4)\n",
      "memory usage: 7.7+ KB\n"
     ]
    }
   ],
   "source": [
    "df.info()"
   ]
  },
  {
   "cell_type": "code",
   "execution_count": 6,
   "id": "0d2085d2",
   "metadata": {},
   "outputs": [
    {
     "data": {
      "text/plain": [
       "(69, 14)"
      ]
     },
     "execution_count": 6,
     "metadata": {},
     "output_type": "execute_result"
    }
   ],
   "source": [
    "df.shape"
   ]
  },
  {
   "cell_type": "markdown",
   "id": "57056b5d",
   "metadata": {},
   "source": [
    "# Данный датасет содержит 14 разных переменных и 69 значений.\n",
    "Х1 - Торговельна площа, кв. м. (object)\n",
    "X2 - Этаж (int)\n",
    "X3 - Тип (object)\n",
    "X4 - Количество касс (int)\n",
    "X5 - Рейтинг в гуглі (object)\n",
    "X6 - Количество чеков (int)\n",
    "X7 - Средний чек (object)\n",
    "X8 - Офіси (float)\n",
    "X9 - Магазин мобільного звязку (int)\n",
    "X10 - Продуктовий ринок (int)\n",
    "X11 - Речовий ринок (int)\n",
    "X12 - Транзитна зупинка міжміського ГТ (int)\n",
    "X13 - Зупинка ГТ (int)\n",
    "Y - Середній дохід наcелення,грн (float)"
   ]
  },
  {
   "cell_type": "markdown",
   "id": "963c9cec",
   "metadata": {},
   "source": [
    "Для данной задачи выбрано прогнозировать какой доход у населения, исходя из всех предоставленных параметров. И как эти параметры влияют на У."
   ]
  },
  {
   "cell_type": "markdown",
   "id": "cd5272fd",
   "metadata": {},
   "source": [
    "# Visualization"
   ]
  },
  {
   "cell_type": "code",
   "execution_count": 7,
   "id": "d900aab5",
   "metadata": {},
   "outputs": [
    {
     "data": {
      "text/plain": [
       "<AxesSubplot:ylabel='Frequency'>"
      ]
     },
     "execution_count": 7,
     "metadata": {},
     "output_type": "execute_result"
    },
    {
     "data": {
      "image/png": "[encoded data removed]",
      "text/plain": [
       "<Figure size 432x288 with 1 Axes>"
      ]
     },
     "metadata": {
      "needs_background": "light"
     },
     "output_type": "display_data"
    }
   ],
   "source": [
    "\n",
    "# Feature distribution\n",
    "df['X2'].plot(kind = 'hist')"
   ]
  },
  {
   "cell_type": "code",
   "execution_count": 8,
   "id": "4d1cfe42",
   "metadata": {},
   "outputs": [
    {
     "data": {
      "text/plain": [
       "<AxesSubplot:ylabel='Frequency'>"
      ]
     },
     "execution_count": 8,
     "metadata": {},
     "output_type": "execute_result"
    },
    {
     "data": {
      "image/png": "[encoded data removed]",
      "text/plain": [
       "<Figure size 432x288 with 1 Axes>"
      ]
     },
     "metadata": {
      "needs_background": "light"
     },
     "output_type": "display_data"
    }
   ],
   "source": [
    "\n",
    "# Feature distribution\n",
    "df['X4'].plot(kind = 'hist')"
   ]
  },
  {
   "cell_type": "code",
   "execution_count": 9,
   "id": "88e6ae04",
   "metadata": {},
   "outputs": [
    {
     "data": {
      "text/plain": [
       "<AxesSubplot:ylabel='Frequency'>"
      ]
     },
     "execution_count": 9,
     "metadata": {},
     "output_type": "execute_result"
    },
    {
     "data": {
      "image/png": "[encoded data removed]",
      "text/plain": [
       "<Figure size 432x288 with 1 Axes>"
      ]
     },
     "metadata": {
      "needs_background": "light"
     },
     "output_type": "display_data"
    }
   ],
   "source": [
    "\n",
    "# Feature distribution\n",
    "df['X6'].plot(kind = 'hist')"
   ]
  },
  {
   "cell_type": "code",
   "execution_count": 10,
   "id": "194e7fc6",
   "metadata": {},
   "outputs": [
    {
     "data": {
      "text/plain": [
       "<AxesSubplot:ylabel='Frequency'>"
      ]
     },
     "execution_count": 10,
     "metadata": {},
     "output_type": "execute_result"
    },
    {
     "data": {
      "image/png": "[encoded data removed]",
      "text/plain": [
       "<Figure size 432x288 with 1 Axes>"
      ]
     },
     "metadata": {
      "needs_background": "light"
     },
     "output_type": "display_data"
    }
   ],
   "source": [
    "\n",
    "# Feature distribution\n",
    "df['X8'].plot(kind = 'hist')"
   ]
  },
  {
   "cell_type": "markdown",
   "id": "5bfe47d3",
   "metadata": {},
   "source": [
    "Выводы: Х2 (этаж) - не вариативная. Переменная Х8 (офисы) - имеет длинный хвост."
   ]
  },
  {
   "cell_type": "markdown",
   "id": "9a62da77",
   "metadata": {},
   "source": [
    "# Missing data"
   ]
  },
  {
   "cell_type": "code",
   "execution_count": 11,
   "id": "38fa570b",
   "metadata": {},
   "outputs": [
    {
     "data": {
      "text/plain": [
       "X1     0\n",
       "X2     0\n",
       "X3     0\n",
       "X4     0\n",
       "X5     0\n",
       "X6     0\n",
       "X7     7\n",
       "X8     5\n",
       "X9     0\n",
       "X10    0\n",
       "X11    0\n",
       "X12    0\n",
       "X13    0\n",
       "Y      5\n",
       "dtype: int64"
      ]
     },
     "execution_count": 11,
     "metadata": {},
     "output_type": "execute_result"
    }
   ],
   "source": [
    "# Cheking Missing data\n",
    "df.isnull().sum()"
   ]
  },
  {
   "cell_type": "markdown",
   "id": "46b18d64",
   "metadata": {},
   "source": [
    "Переменная Х7, Х8 и У содержат пропуски"
   ]
  },
  {
   "cell_type": "code",
   "execution_count": 12,
   "id": "1e266646",
   "metadata": {},
   "outputs": [],
   "source": [
    "#!pip install sklearn"
   ]
  },
  {
   "cell_type": "code",
   "execution_count": 13,
   "id": "40080f39",
   "metadata": {},
   "outputs": [],
   "source": [
    "# Taking care of missing data\n",
    "dfm = df\n",
    "\n",
    "from sklearn.impute import SimpleImputer\n",
    "#numeric\n",
    "\n",
    "imputer_mean = SimpleImputer(missing_values=np.nan, strategy='mean')\n",
    "\n",
    "dfm[['X8']] = imputer_mean.fit_transform(dfm[['X8']]).round()\n",
    "dfm[['Y']] = imputer_mean.fit_transform(dfm[['Y']]).round()\n",
    "\n",
    "\n",
    "#strings\n",
    "imputer_freq = SimpleImputer(missing_values=np.nan, strategy='most_frequent')\n",
    "dfm[['X7']] = imputer_freq.fit_transform(dfm[['X7']])"
   ]
  },
  {
   "cell_type": "code",
   "execution_count": 14,
   "id": "ec099c2b",
   "metadata": {},
   "outputs": [
    {
     "data": {
      "text/plain": [
       "X1     0\n",
       "X2     0\n",
       "X3     0\n",
       "X4     0\n",
       "X5     0\n",
       "X6     0\n",
       "X7     0\n",
       "X8     0\n",
       "X9     0\n",
       "X10    0\n",
       "X11    0\n",
       "X12    0\n",
       "X13    0\n",
       "Y      0\n",
       "dtype: int64"
      ]
     },
     "execution_count": 14,
     "metadata": {},
     "output_type": "execute_result"
    }
   ],
   "source": [
    "dfm.isnull().sum()"
   ]
  },
  {
   "cell_type": "markdown",
   "id": "e8b05a9a",
   "metadata": {},
   "source": [
    "Пропуски по переменным заполнены."
   ]
  },
  {
   "cell_type": "markdown",
   "id": "1f3c3dea",
   "metadata": {},
   "source": [
    "# Outliers"
   ]
  },
  {
   "cell_type": "code",
   "execution_count": 15,
   "id": "8f1dfa6c",
   "metadata": {},
   "outputs": [
    {
     "data": {
      "text/plain": [
       "count     69\n",
       "unique    52\n",
       "top       22\n",
       "freq       4\n",
       "Name: X1, dtype: object"
      ]
     },
     "execution_count": 15,
     "metadata": {},
     "output_type": "execute_result"
    }
   ],
   "source": [
    "df['X1'].describe()"
   ]
  },
  {
   "cell_type": "code",
   "execution_count": 16,
   "id": "b4e09149",
   "metadata": {},
   "outputs": [
    {
     "data": {
      "text/plain": [
       "count      69.000000\n",
       "mean     4084.101449\n",
       "std      2213.335666\n",
       "min       476.000000\n",
       "25%      2344.000000\n",
       "50%      3995.000000\n",
       "75%      4826.000000\n",
       "max      9687.000000\n",
       "Name: X6, dtype: float64"
      ]
     },
     "execution_count": 16,
     "metadata": {},
     "output_type": "execute_result"
    }
   ],
   "source": [
    "dfm['X6'].describe()"
   ]
  },
  {
   "cell_type": "code",
   "execution_count": 17,
   "id": "5e10bd3d",
   "metadata": {},
   "outputs": [],
   "source": [
    "# Outliers\n",
    "X6 = []\n",
    "for k in dfm['X6']:\n",
    "    if k > round(dfm['X6'].mean() + 3*dfm['X6'].std()):\n",
    "        k = round(dfm['X6'].mean() + 3*dfm['X6'].std()) \n",
    "    X6.append(k)\n",
    "dfm['X6'] = X6"
   ]
  },
  {
   "cell_type": "code",
   "execution_count": 18,
   "id": "fbbed360",
   "metadata": {},
   "outputs": [
    {
     "data": {
      "text/plain": [
       "count      69.000000\n",
       "mean     4084.101449\n",
       "std      2213.335666\n",
       "min       476.000000\n",
       "25%      2344.000000\n",
       "50%      3995.000000\n",
       "75%      4826.000000\n",
       "max      9687.000000\n",
       "Name: X6, dtype: float64"
      ]
     },
     "execution_count": 18,
     "metadata": {},
     "output_type": "execute_result"
    }
   ],
   "source": [
    "dfm['X6'].describe()"
   ]
  },
  {
   "cell_type": "code",
   "execution_count": 19,
   "id": "b4c8aee8",
   "metadata": {},
   "outputs": [
    {
     "data": {
      "text/plain": [
       "count      69.000000\n",
       "mean      439.884058\n",
       "std       442.698760\n",
       "min         0.000000\n",
       "25%       126.000000\n",
       "50%       348.000000\n",
       "75%       573.000000\n",
       "max      2185.000000\n",
       "Name: X8, dtype: float64"
      ]
     },
     "execution_count": 19,
     "metadata": {},
     "output_type": "execute_result"
    }
   ],
   "source": [
    "dfm['X8'].describe()"
   ]
  },
  {
   "cell_type": "code",
   "execution_count": 20,
   "id": "c90cb75e",
   "metadata": {},
   "outputs": [],
   "source": [
    "# Outliers\n",
    "X8 = []\n",
    "for n in dfm['X8']:\n",
    "    if n > round(dfm['X8'].mean() + 3*dfm['X8'].std()):\n",
    "        n = round(dfm['X8'].mean() + 3*dfm['X8'].std()) \n",
    "    X8.append(n)\n",
    "dfm['X8'] = X8"
   ]
  },
  {
   "cell_type": "code",
   "execution_count": 21,
   "id": "3c48fc39",
   "metadata": {},
   "outputs": [
    {
     "data": {
      "text/plain": [
       "count      69.000000\n",
       "mean      433.840580\n",
       "std       420.831307\n",
       "min         0.000000\n",
       "25%       126.000000\n",
       "50%       348.000000\n",
       "75%       573.000000\n",
       "max      1768.000000\n",
       "Name: X8, dtype: float64"
      ]
     },
     "execution_count": 21,
     "metadata": {},
     "output_type": "execute_result"
    }
   ],
   "source": [
    "dfm['X8'].describe()"
   ]
  },
  {
   "cell_type": "code",
   "execution_count": 22,
   "id": "285efa38",
   "metadata": {},
   "outputs": [
    {
     "data": {
      "text/plain": [
       "(69, 14)"
      ]
     },
     "execution_count": 22,
     "metadata": {},
     "output_type": "execute_result"
    }
   ],
   "source": [
    "dfm.shape"
   ]
  },
  {
   "cell_type": "markdown",
   "id": "ca98ec97",
   "metadata": {},
   "source": [
    "Таким образом, были проверены переменные (которые по графику были похожи на выбросы) и у фактора Х8 значения, которые выходят за 3 сигма - заменены на максимальное."
   ]
  },
  {
   "cell_type": "markdown",
   "id": "c13a4eab",
   "metadata": {},
   "source": [
    "# Encoding"
   ]
  },
  {
   "cell_type": "code",
   "execution_count": 24,
   "id": "a0a00f96",
   "metadata": {},
   "outputs": [],
   "source": [
    "\n",
    "# Function Encoding\n",
    "def encoding_char(x):\n",
    "    char_var = list(set(x.columns) - set(x._get_numeric_data().columns))\n",
    "    for col_names in char_var:\n",
    "        f = pd.factorize(x[col_names])\n",
    "        x[col_names] = pd.factorize(x[col_names])[0]\n",
    "    return(x)"
   ]
  },
  {
   "cell_type": "code",
   "execution_count": 25,
   "id": "884a4f4f",
   "metadata": {},
   "outputs": [
    {
     "data": {
      "text/html": [
       "<div>\n",
       "<style scoped>\n",
       "    .dataframe tbody tr th:only-of-type {\n",
       "        vertical-align: middle;\n",
       "    }\n",
       "\n",
       "    .dataframe tbody tr th {\n",
       "        vertical-align: top;\n",
       "    }\n",
       "\n",
       "    .dataframe thead th {\n",
       "        text-align: right;\n",
       "    }\n",
       "</style>\n",
       "<table border=\"1\" class=\"dataframe\">\n",
       "  <thead>\n",
       "    <tr style=\"text-align: right;\">\n",
       "      <th></th>\n",
       "      <th>X1</th>\n",
       "      <th>X2</th>\n",
       "      <th>X3</th>\n",
       "      <th>X4</th>\n",
       "      <th>X5</th>\n",
       "      <th>X6</th>\n",
       "      <th>X7</th>\n",
       "      <th>X8</th>\n",
       "      <th>X9</th>\n",
       "      <th>X10</th>\n",
       "      <th>X11</th>\n",
       "      <th>X12</th>\n",
       "      <th>X13</th>\n",
       "      <th>Y</th>\n",
       "    </tr>\n",
       "  </thead>\n",
       "  <tbody>\n",
       "    <tr>\n",
       "      <th>0</th>\n",
       "      <td>0</td>\n",
       "      <td>1</td>\n",
       "      <td>0</td>\n",
       "      <td>1</td>\n",
       "      <td>0</td>\n",
       "      <td>659</td>\n",
       "      <td>0</td>\n",
       "      <td>1092.0</td>\n",
       "      <td>0</td>\n",
       "      <td>0</td>\n",
       "      <td>0</td>\n",
       "      <td>0</td>\n",
       "      <td>1</td>\n",
       "      <td>13884.0</td>\n",
       "    </tr>\n",
       "    <tr>\n",
       "      <th>1</th>\n",
       "      <td>1</td>\n",
       "      <td>1</td>\n",
       "      <td>0</td>\n",
       "      <td>1</td>\n",
       "      <td>1</td>\n",
       "      <td>1518</td>\n",
       "      <td>1</td>\n",
       "      <td>348.0</td>\n",
       "      <td>0</td>\n",
       "      <td>0</td>\n",
       "      <td>0</td>\n",
       "      <td>1</td>\n",
       "      <td>1</td>\n",
       "      <td>11700.0</td>\n",
       "    </tr>\n",
       "    <tr>\n",
       "      <th>2</th>\n",
       "      <td>2</td>\n",
       "      <td>1</td>\n",
       "      <td>0</td>\n",
       "      <td>1</td>\n",
       "      <td>0</td>\n",
       "      <td>476</td>\n",
       "      <td>2</td>\n",
       "      <td>504.0</td>\n",
       "      <td>0</td>\n",
       "      <td>0</td>\n",
       "      <td>0</td>\n",
       "      <td>1</td>\n",
       "      <td>1</td>\n",
       "      <td>6786.0</td>\n",
       "    </tr>\n",
       "    <tr>\n",
       "      <th>3</th>\n",
       "      <td>3</td>\n",
       "      <td>1</td>\n",
       "      <td>0</td>\n",
       "      <td>1</td>\n",
       "      <td>0</td>\n",
       "      <td>1310</td>\n",
       "      <td>3</td>\n",
       "      <td>418.0</td>\n",
       "      <td>0</td>\n",
       "      <td>0</td>\n",
       "      <td>0</td>\n",
       "      <td>1</td>\n",
       "      <td>1</td>\n",
       "      <td>12948.0</td>\n",
       "    </tr>\n",
       "    <tr>\n",
       "      <th>4</th>\n",
       "      <td>4</td>\n",
       "      <td>1</td>\n",
       "      <td>1</td>\n",
       "      <td>1</td>\n",
       "      <td>2</td>\n",
       "      <td>2029</td>\n",
       "      <td>4</td>\n",
       "      <td>108.0</td>\n",
       "      <td>0</td>\n",
       "      <td>0</td>\n",
       "      <td>0</td>\n",
       "      <td>0</td>\n",
       "      <td>0</td>\n",
       "      <td>11427.0</td>\n",
       "    </tr>\n",
       "    <tr>\n",
       "      <th>...</th>\n",
       "      <td>...</td>\n",
       "      <td>...</td>\n",
       "      <td>...</td>\n",
       "      <td>...</td>\n",
       "      <td>...</td>\n",
       "      <td>...</td>\n",
       "      <td>...</td>\n",
       "      <td>...</td>\n",
       "      <td>...</td>\n",
       "      <td>...</td>\n",
       "      <td>...</td>\n",
       "      <td>...</td>\n",
       "      <td>...</td>\n",
       "      <td>...</td>\n",
       "    </tr>\n",
       "    <tr>\n",
       "      <th>64</th>\n",
       "      <td>49</td>\n",
       "      <td>1</td>\n",
       "      <td>0</td>\n",
       "      <td>2</td>\n",
       "      <td>2</td>\n",
       "      <td>6884</td>\n",
       "      <td>56</td>\n",
       "      <td>337.0</td>\n",
       "      <td>0</td>\n",
       "      <td>0</td>\n",
       "      <td>0</td>\n",
       "      <td>0</td>\n",
       "      <td>0</td>\n",
       "      <td>9399.0</td>\n",
       "    </tr>\n",
       "    <tr>\n",
       "      <th>65</th>\n",
       "      <td>8</td>\n",
       "      <td>1</td>\n",
       "      <td>0</td>\n",
       "      <td>1</td>\n",
       "      <td>13</td>\n",
       "      <td>4721</td>\n",
       "      <td>57</td>\n",
       "      <td>668.0</td>\n",
       "      <td>0</td>\n",
       "      <td>1</td>\n",
       "      <td>1</td>\n",
       "      <td>0</td>\n",
       "      <td>0</td>\n",
       "      <td>14079.0</td>\n",
       "    </tr>\n",
       "    <tr>\n",
       "      <th>66</th>\n",
       "      <td>50</td>\n",
       "      <td>1</td>\n",
       "      <td>0</td>\n",
       "      <td>1</td>\n",
       "      <td>0</td>\n",
       "      <td>3286</td>\n",
       "      <td>58</td>\n",
       "      <td>295.0</td>\n",
       "      <td>0</td>\n",
       "      <td>0</td>\n",
       "      <td>0</td>\n",
       "      <td>0</td>\n",
       "      <td>0</td>\n",
       "      <td>11427.0</td>\n",
       "    </tr>\n",
       "    <tr>\n",
       "      <th>67</th>\n",
       "      <td>51</td>\n",
       "      <td>1</td>\n",
       "      <td>1</td>\n",
       "      <td>2</td>\n",
       "      <td>7</td>\n",
       "      <td>3963</td>\n",
       "      <td>59</td>\n",
       "      <td>0.0</td>\n",
       "      <td>0</td>\n",
       "      <td>1</td>\n",
       "      <td>1</td>\n",
       "      <td>0</td>\n",
       "      <td>0</td>\n",
       "      <td>13338.0</td>\n",
       "    </tr>\n",
       "    <tr>\n",
       "      <th>68</th>\n",
       "      <td>1</td>\n",
       "      <td>1</td>\n",
       "      <td>0</td>\n",
       "      <td>1</td>\n",
       "      <td>14</td>\n",
       "      <td>4200</td>\n",
       "      <td>60</td>\n",
       "      <td>101.0</td>\n",
       "      <td>0</td>\n",
       "      <td>0</td>\n",
       "      <td>0</td>\n",
       "      <td>0</td>\n",
       "      <td>0</td>\n",
       "      <td>10296.0</td>\n",
       "    </tr>\n",
       "  </tbody>\n",
       "</table>\n",
       "<p>69 rows × 14 columns</p>\n",
       "</div>"
      ],
      "text/plain": [
       "    X1  X2  X3  X4  X5    X6  X7      X8  X9  X10  X11  X12  X13        Y\n",
       "0    0   1   0   1   0   659   0  1092.0   0    0    0    0    1  13884.0\n",
       "1    1   1   0   1   1  1518   1   348.0   0    0    0    1    1  11700.0\n",
       "2    2   1   0   1   0   476   2   504.0   0    0    0    1    1   6786.0\n",
       "3    3   1   0   1   0  1310   3   418.0   0    0    0    1    1  12948.0\n",
       "4    4   1   1   1   2  2029   4   108.0   0    0    0    0    0  11427.0\n",
       "..  ..  ..  ..  ..  ..   ...  ..     ...  ..  ...  ...  ...  ...      ...\n",
       "64  49   1   0   2   2  6884  56   337.0   0    0    0    0    0   9399.0\n",
       "65   8   1   0   1  13  4721  57   668.0   0    1    1    0    0  14079.0\n",
       "66  50   1   0   1   0  3286  58   295.0   0    0    0    0    0  11427.0\n",
       "67  51   1   1   2   7  3963  59     0.0   0    1    1    0    0  13338.0\n",
       "68   1   1   0   1  14  4200  60   101.0   0    0    0    0    0  10296.0\n",
       "\n",
       "[69 rows x 14 columns]"
      ]
     },
     "execution_count": 25,
     "metadata": {},
     "output_type": "execute_result"
    }
   ],
   "source": [
    "# Encoding categorical data\n",
    "dfm = encoding_char(df)\n",
    "dfm"
   ]
  },
  {
   "cell_type": "markdown",
   "id": "a7c87244",
   "metadata": {},
   "source": [
    "# Correlations"
   ]
  },
  {
   "cell_type": "code",
   "execution_count": 28,
   "id": "5b0f8428",
   "metadata": {},
   "outputs": [],
   "source": [
    "#!pip install seaborn"
   ]
  },
  {
   "cell_type": "code",
   "execution_count": 29,
   "id": "28ce263f",
   "metadata": {},
   "outputs": [
    {
     "data": {
      "image/png": "[encoded data removed]",
      "text/plain": [
       "<Figure size 864x648 with 2 Axes>"
      ]
     },
     "metadata": {
      "needs_background": "light"
     },
     "output_type": "display_data"
    }
   ],
   "source": [
    "# Cheking correlations\n",
    "import seaborn as sns\n",
    "corrmat = df.corr()\n",
    "f, ax = plt.subplots(figsize=(12, 9))\n",
    "sns.heatmap(corrmat, annot=True)\n",
    "plt.show()"
   ]
  },
  {
   "cell_type": "markdown",
   "id": "af4c6142",
   "metadata": {},
   "source": [
    "Высокая корреляция: \n",
    "    \n",
    "    Х4 и Х6 - убрать из модели Х4\n",
    "    Х10 и Х11 - убрать из модели Х11\n",
    "    Х1 и Х7 - убрать из модели Х7\n",
    "    \n",
    "    НА зависимую переменную наибольшим образом влияет тип магазина и количество офисов (лучшие условие - люди с большим доходом)"
   ]
  },
  {
   "cell_type": "code",
   "execution_count": 35,
   "id": "c650ceda",
   "metadata": {},
   "outputs": [
    {
     "data": {
      "text/plain": [
       "(69, 10)"
      ]
     },
     "execution_count": 35,
     "metadata": {},
     "output_type": "execute_result"
    }
   ],
   "source": [
    "# Removing Correlated Data\n",
    "dfr = df.drop(['X2','X4','X7','X11'], axis='columns', inplace=False)\n",
    "dfr.shape"
   ]
  },
  {
   "cell_type": "code",
   "execution_count": 38,
   "id": "ee9af0f7",
   "metadata": {},
   "outputs": [
    {
     "data": {
      "image/png": "[encoded data removed]",
      "text/plain": [
       "<Figure size 864x648 with 2 Axes>"
      ]
     },
     "metadata": {
      "needs_background": "light"
     },
     "output_type": "display_data"
    }
   ],
   "source": [
    "# Cheking correlations\n",
    "import seaborn as sns\n",
    "corrmat = dfr.corr()\n",
    "f, ax = plt.subplots(figsize=(12, 9))\n",
    "sns.heatmap(corrmat, annot=True)\n",
    "plt.show()"
   ]
  },
  {
   "cell_type": "markdown",
   "id": "6caab69b",
   "metadata": {},
   "source": [
    "# Exporting"
   ]
  },
  {
   "cell_type": "code",
   "execution_count": 36,
   "id": "9459dca7",
   "metadata": {},
   "outputs": [],
   "source": [
    "# Exporting the dataset\n",
    "dfm.to_csv('br_prep.csv', sep=';', index=False)"
   ]
  },
  {
   "cell_type": "code",
   "execution_count": 37,
   "id": "cfdfcd8c",
   "metadata": {},
   "outputs": [],
   "source": [
    "# Exporting the dataset\n",
    "dfr.to_csv('br_prep1.csv', sep=';', index=False)"
   ]
  }
 ],
 "metadata": {
  "kernelspec": {
   "display_name": "Python 3 (ipykernel)",
   "language": "python",
   "name": "python3"
  },
  "language_info": {
   "codemirror_mode": {
    "name": "ipython",
    "version": 3
   },
   "file_extension": ".py",
   "mimetype": "text/x-python",
   "name": "python",
   "nbconvert_exporter": "python",
   "pygments_lexer": "ipython3",
   "version": "3.8.12"
  }
 },
 "nbformat": 4,
 "nbformat_minor": 5
}
